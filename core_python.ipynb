{
  "nbformat": 4,
  "nbformat_minor": 0,
  "metadata": {
    "colab": {
      "name": "core-python.ipynb",
      "provenance": [],
      "authorship_tag": "ABX9TyMMzmt86kovxPEM7M7H0KdN",
      "include_colab_link": true
    },
    "kernelspec": {
      "name": "python3",
      "display_name": "Python 3"
    },
    "language_info": {
      "name": "python"
    }
  },
  "cells": [
    {
      "cell_type": "markdown",
      "metadata": {
        "id": "view-in-github",
        "colab_type": "text"
      },
      "source": [
        "<a href=\"https://colab.research.google.com/github/chinmay29hub/core-python/blob/main/core_python.ipynb\" target=\"_parent\"><img src=\"https://colab.research.google.com/assets/colab-badge.svg\" alt=\"Open In Colab\"/></a>"
      ]
    },
    {
      "cell_type": "code",
      "metadata": {
        "id": "EpMeJZOMFIAS"
      },
      "source": [
        "a = 5\n",
        "b = 6\n"
      ],
      "execution_count": null,
      "outputs": []
    }
  ]
}